{
 "cells": [
  {
   "cell_type": "code",
   "execution_count": 1,
   "id": "428a1693-6c4d-423f-a176-13c4345c885c",
   "metadata": {},
   "outputs": [
    {
     "data": {
      "text/html": [
       "\n",
       "            <div>\n",
       "                <p><b>SparkSession - in-memory</b></p>\n",
       "                \n",
       "        <div>\n",
       "            <p><b>SparkContext</b></p>\n",
       "\n",
       "            <p><a href=\"http://93909b710d8b:4040\">Spark UI</a></p>\n",
       "\n",
       "            <dl>\n",
       "              <dt>Version</dt>\n",
       "                <dd><code>v3.3.0</code></dd>\n",
       "              <dt>Master</dt>\n",
       "                <dd><code>local[*]</code></dd>\n",
       "              <dt>AppName</dt>\n",
       "                <dd><code>Streaming from Kafka</code></dd>\n",
       "            </dl>\n",
       "        </div>\n",
       "        \n",
       "            </div>\n",
       "        "
      ],
      "text/plain": [
       "<pyspark.sql.session.SparkSession at 0xffff3d743790>"
      ]
     },
     "execution_count": 1,
     "metadata": {},
     "output_type": "execute_result"
    }
   ],
   "source": [
    "# Create the Spark Session\n",
    "from pyspark.sql import SparkSession\n",
    "\n",
    "spark = (\n",
    "    SparkSession.builder.appName(\"Streaming from Kafka\")\n",
    "    .config(\"spark.streaming.stopGracefullyOnShutdown\", True)\n",
    "    .config(\"spark.jars.packages\", \"org.apache.spark:spark-sql-kafka-0-10_2.12:3.3.0\")\n",
    "    .config(\"spark.sql.shuffle.partitions\", 4)\n",
    "    .master(\"local[*]\")\n",
    "    .getOrCreate()\n",
    ")\n",
    "\n",
    "spark"
   ]
  },
  {
   "cell_type": "code",
   "execution_count": 2,
   "id": "56ee70c4-9260-4bcf-82f1-acff3f39ce06",
   "metadata": {},
   "outputs": [],
   "source": [
    "# Create the kafka_df to read from kafka\n",
    "\n",
    "kafka_df = (\n",
    "    spark.readStream.format(\"kafka\")\n",
    "    .option(\"kafka.bootstrap.servers\", \"ed-kafka:29092\")\n",
    "    .option(\"subscribe\", \"house-data\")\n",
    "    .option(\"startingOffsets\", \"earliest\")\n",
    "    .load()\n",
    ")"
   ]
  },
  {
   "cell_type": "code",
   "execution_count": 3,
   "id": "974f1f9a-cc8c-405b-8824-0d9945d34383",
   "metadata": {},
   "outputs": [
    {
     "name": "stdout",
     "output_type": "stream",
     "text": [
      "root\n",
      " |-- key: binary (nullable = true)\n",
      " |-- value: binary (nullable = true)\n",
      " |-- topic: string (nullable = true)\n",
      " |-- partition: integer (nullable = true)\n",
      " |-- offset: long (nullable = true)\n",
      " |-- timestamp: timestamp (nullable = true)\n",
      " |-- timestampType: integer (nullable = true)\n",
      "\n"
     ]
    }
   ],
   "source": [
    "# View schema for raw kafka_df\n",
    "kafka_df.printSchema()\n",
    "# kafka_df.show()"
   ]
  },
  {
   "cell_type": "code",
   "execution_count": 4,
   "id": "53bf3233-a702-4015-83e5-5fb827ab8c69",
   "metadata": {},
   "outputs": [],
   "source": [
    "# Parse value from binay to string into kafka_json_df\n",
    "from pyspark.sql.functions import expr\n",
    "\n",
    "kafka_json_df = kafka_df.withColumn(\"value\", expr(\"cast(value as string)\"))"
   ]
  },
  {
   "cell_type": "code",
   "execution_count": 5,
   "id": "974f46a8-7043-447f-97de-36232b32ab9f",
   "metadata": {},
   "outputs": [],
   "source": [
    "from pyspark.sql.functions import from_json, struct, to_json\n",
    "from pyspark.sql.types import (\n",
    "    FloatType,\n",
    "    IntegerType,\n",
    "    StringType,\n",
    "    StructField,\n",
    "    StructType,\n",
    ")\n",
    "\n",
    "# Define the schema based on the provided columns\n",
    "house_schema = StructType(\n",
    "    [\n",
    "        StructField(\"Id\", IntegerType(), True),\n",
    "        StructField(\"MSSubClass\", IntegerType(), True),\n",
    "        StructField(\"MSZoning\", StringType(), True),\n",
    "        StructField(\"LotFrontage\", IntegerType(), True),\n",
    "        StructField(\"LotArea\", IntegerType(), True),\n",
    "        StructField(\"Street\", StringType(), True),\n",
    "        StructField(\"Alley\", FloatType(), True),\n",
    "        StructField(\"LotShape\", StringType(), True),\n",
    "        StructField(\"LandContour\", StringType(), True),\n",
    "        StructField(\"Utilities\", StringType(), True),\n",
    "        StructField(\"LotConfig\", StringType(), True),\n",
    "        StructField(\"LandSlope\", StringType(), True),\n",
    "        StructField(\"Neighborhood\", StringType(), True),\n",
    "        StructField(\"Condition1\", StringType(), True),\n",
    "        StructField(\"Condition2\", StringType(), True),\n",
    "        StructField(\"BldgType\", StringType(), True),\n",
    "        StructField(\"HouseStyle\", StringType(), True),\n",
    "        StructField(\"OverallQual\", IntegerType(), True),\n",
    "        StructField(\"OverallCond\", IntegerType(), True),\n",
    "        StructField(\"YearBuilt\", IntegerType(), True),\n",
    "        StructField(\"YearRemodAdd\", IntegerType(), True),\n",
    "        StructField(\"RoofStyle\", StringType(), True),\n",
    "        StructField(\"RoofMatl\", StringType(), True),\n",
    "        StructField(\"Exterior1st\", StringType(), True),\n",
    "        StructField(\"Exterior2nd\", StringType(), True),\n",
    "        StructField(\"MasVnrType\", StringType(), True),\n",
    "        StructField(\"MasVnrArea\", IntegerType(), True),\n",
    "        StructField(\"ExterQual\", StringType(), True),\n",
    "        StructField(\"ExterCond\", StringType(), True),\n",
    "        StructField(\"Foundation\", StringType(), True),\n",
    "        StructField(\"BsmtQual\", StringType(), True),\n",
    "        StructField(\"BsmtCond\", StringType(), True),\n",
    "        StructField(\"BsmtExposure\", StringType(), True),\n",
    "        StructField(\"BsmtFinType1\", StringType(), True),\n",
    "        StructField(\"BsmtFinSF1\", IntegerType(), True),\n",
    "        StructField(\"BsmtFinType2\", StringType(), True),\n",
    "        StructField(\"BsmtFinSF2\", IntegerType(), True),\n",
    "        StructField(\"BsmtUnfSF\", IntegerType(), True),\n",
    "        StructField(\"TotalBsmtSF\", IntegerType(), True),\n",
    "        StructField(\"Heating\", StringType(), True),\n",
    "        StructField(\"HeatingQC\", StringType(), True),\n",
    "        StructField(\"CentralAir\", StringType(), True),\n",
    "        StructField(\"Electrical\", StringType(), True),\n",
    "        StructField(\"1stFlrSF\", IntegerType(), True),\n",
    "        StructField(\"2ndFlrSF\", IntegerType(), True),\n",
    "        StructField(\"LowQualFinSF\", IntegerType(), True),\n",
    "        StructField(\"GrLivArea\", IntegerType(), True),\n",
    "        StructField(\"BsmtFullBath\", IntegerType(), True),\n",
    "        StructField(\"BsmtHalfBath\", IntegerType(), True),\n",
    "        StructField(\"FullBath\", IntegerType(), True),\n",
    "        StructField(\"HalfBath\", IntegerType(), True),\n",
    "        StructField(\"BedroomAbvGr\", IntegerType(), True),\n",
    "        StructField(\"KitchenAbvGr\", IntegerType(), True),\n",
    "        StructField(\"KitchenQual\", StringType(), True),\n",
    "        StructField(\"TotRmsAbvGrd\", IntegerType(), True),\n",
    "        StructField(\"Functional\", StringType(), True),\n",
    "        StructField(\"Fireplaces\", IntegerType(), True),\n",
    "        StructField(\"FireplaceQu\", FloatType(), True),\n",
    "        StructField(\"GarageType\", StringType(), True),\n",
    "        StructField(\"GarageYrBlt\", IntegerType(), True),\n",
    "        StructField(\"GarageFinish\", StringType(), True),\n",
    "        StructField(\"GarageCars\", IntegerType(), True),\n",
    "        StructField(\"GarageArea\", IntegerType(), True),\n",
    "        StructField(\"GarageQual\", StringType(), True),\n",
    "        StructField(\"GarageCond\", StringType(), True),\n",
    "        StructField(\"PavedDrive\", StringType(), True),\n",
    "        StructField(\"WoodDeckSF\", IntegerType(), True),\n",
    "        StructField(\"OpenPorchSF\", IntegerType(), True),\n",
    "        StructField(\"EnclosedPorch\", IntegerType(), True),\n",
    "        StructField(\"3SsnPorch\", IntegerType(), True),\n",
    "        StructField(\"ScreenPorch\", IntegerType(), True),\n",
    "        StructField(\"PoolArea\", IntegerType(), True),\n",
    "        StructField(\"PoolQC\", FloatType(), True),\n",
    "        StructField(\"Fence\", FloatType(), True),\n",
    "        StructField(\"MiscFeature\", FloatType(), True),\n",
    "        StructField(\"MiscVal\", IntegerType(), True),\n",
    "        StructField(\"MoSold\", IntegerType(), True),\n",
    "        StructField(\"YrSold\", IntegerType(), True),\n",
    "        StructField(\"SaleType\", StringType(), True),\n",
    "        StructField(\"SaleCondition\", StringType(), True),\n",
    "        StructField(\"SalePrice\", IntegerType(), True),\n",
    "    ]\n",
    ")\n",
    "\n",
    "# Using this schema to parse JSON messages from Kafka\n",
    "parsed_df = (\n",
    "    kafka_df.selectExpr(\"CAST(value AS STRING) as json_string\")\n",
    "    .select(from_json(\"json_string\", house_schema).alias(\"data\"))\n",
    "    .select(\"data.*\")\n",
    ")"
   ]
  },
  {
   "cell_type": "code",
   "execution_count": 6,
   "id": "11c58b64-d049-46dd-a1ff-14ddf5862f02",
   "metadata": {},
   "outputs": [],
   "source": [
    "from pyspark.ml import PipelineModel\n",
    "\n",
    "model = PipelineModel.load(\"house_price_model.pkl\")\n",
    "predictions_df = model.transform(parsed_df)"
   ]
  },
  {
   "cell_type": "code",
   "execution_count": null,
   "id": "49905efe-496f-4b8c-b308-f38a4fb86a8f",
   "metadata": {},
   "outputs": [],
   "source": [
    "# kafka_output_df = predictions_df.select(to_json(struct(*predictions_df.columns)).alias(\"value\"))\n",
    "kafka_output_df = predictions_df.select(\n",
    "    to_json(struct(\"Id\", \"prediction\")).alias(\"value\")\n",
    ")\n",
    "\n",
    "\n",
    "# Output the predictions to a Kafka topic\n",
    "query = (\n",
    "    kafka_output_df.writeStream.format(\"kafka\")\n",
    "    .option(\n",
    "        \"kafka.bootstrap.servers\", \"ed-kafka:29092\"\n",
    "    )  # Adjust the server address as necessary\n",
    "    .option(\"topic\", \"house-data-predictions\")\n",
    "    .option(\n",
    "        \"checkpointLocation\", \"checkpoint_dir_kafka_to_kafka\"\n",
    "    )  # Specify checkpoint directory\n",
    "    .outputMode(\"update\")  # Choose the appropriate output mode\n",
    "    .start()\n",
    ")\n",
    "\n",
    "query.awaitTermination()"
   ]
  },
  {
   "cell_type": "code",
   "execution_count": null,
   "id": "be1a2511-13c6-4edf-972e-51b4c0a0f78e",
   "metadata": {},
   "outputs": [],
   "source": [
    "# # Write the output to console sink to check the output\n",
    "\n",
    "# (predictions_df\n",
    "#  .writeStream\n",
    "#  .format(\"console\")\n",
    "#  .outputMode(\"append\")\n",
    "#  .option(\"checkpointLocation\", \"checkpoint_dir_kafka\")\n",
    "#  .start()\n",
    "#  .awaitTermination())"
   ]
  },
  {
   "cell_type": "code",
   "execution_count": null,
   "id": "2d0e067f-4794-4ef4-a347-429772142ea6",
   "metadata": {},
   "outputs": [],
   "source": [
    "# Check the data at the output location\n",
    "# spark.stop()\n"
   ]
  },
  {
   "cell_type": "code",
   "execution_count": null,
   "id": "9f96bf6d-140a-470f-93d8-139d1a5944dd",
   "metadata": {},
   "outputs": [],
   "source": []
  }
 ],
 "metadata": {
  "kernelspec": {
   "display_name": "Python 3 (ipykernel)",
   "language": "python",
   "name": "python3"
  },
  "language_info": {
   "codemirror_mode": {
    "name": "ipython",
    "version": 3
   },
   "file_extension": ".py",
   "mimetype": "text/x-python",
   "name": "python",
   "nbconvert_exporter": "python",
   "pygments_lexer": "ipython3",
   "version": "3.10.6"
  }
 },
 "nbformat": 4,
 "nbformat_minor": 5
}
